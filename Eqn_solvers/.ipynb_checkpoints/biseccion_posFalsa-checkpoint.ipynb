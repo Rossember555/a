{
  "cells": [
    {
      "cell_type": "markdown",
      "metadata": {
        "id": "view-in-github",
        "colab_type": "text"
      },
      "source": [
        "<a href=\"https://colab.research.google.com/github/Rossember555/a/blob/main/Eqn_solvers/.ipynb_checkpoints/biseccion_posFalsa-checkpoint.ipynb\" target=\"_parent\"><img src=\"https://colab.research.google.com/assets/colab-badge.svg\" alt=\"Open In Colab\"/></a>"
      ]
    },
    {
      "cell_type": "markdown",
      "metadata": {
        "id": "Wg57-X7qzq4N"
      },
      "source": [
        "* Primero definimos las funciones que ejecutan los algoritmos de biseccion y regula falsi (posicion falsa):"
      ]
    },
    {
      "cell_type": "code",
      "execution_count": null,
      "metadata": {
        "id": "t_mU2DYBzq4S"
      },
      "outputs": [],
      "source": [
        "def biseccion(a,b,f,tipo):\n",
        "    # se aproxima el cero de f dentro del \n",
        "    # intervalo (a,b) usando un esquema de \n",
        "    # iteracion dado por el \"flag\" tipo:\n",
        "    # tipo -> (nsteps [0], epsilon [1])\n",
        "    if f(a)*f(b) > 0:\n",
        "        print('el intervalo no contiene un cero de la funcion')\n",
        "        return None\n",
        "    else:\n",
        "        if tipo==0:\n",
        "            nsteps = int(input('seleccione el numero de iteraciones: '))\n",
        "            for i in range(nsteps+1):\n",
        "                c = (a+b)/2\n",
        "                if f(a)*f(c) < 0:\n",
        "                    b = c\n",
        "                else:\n",
        "                    a = c\n",
        "            return c\n",
        "        elif tipo==1:\n",
        "            epsilon = float(input('seleccione el error permitido: '))\n",
        "            while (b-a)/2 > epsilon:\n",
        "                c = (a+b)/2\n",
        "                if f(a)*f(c) < 0:\n",
        "                    b = c\n",
        "                else:\n",
        "                    a = c\n",
        "            return c\n",
        "\n",
        "def regula_falsi(a,b,f,tipo):\n",
        "    if f(a)*f(b) > 0:\n",
        "        print('el intervalo no contiene un cero de la funcion')\n",
        "        return None\n",
        "    else:\n",
        "        if tipo==0:\n",
        "            nsteps = int(input('seleccione el numero de iteraciones: '))\n",
        "            for i in range(nsteps+1):\n",
        "                c = a - f(a)*(b-a)/(f(b)-f(a))\n",
        "                if f(a)*f(c) < 0:\n",
        "                    b = c\n",
        "                else:\n",
        "                    a = c\n",
        "            return c\n",
        "        elif tipo==1:\n",
        "            epsilon = float(input('seleccione el error permitido: '))\n",
        "            while (b-a)/2 > epsilon:\n",
        "                c = a - f(a)*(b-a)/(f(b)-f(a))\n",
        "                if f(a)*f(c) < 0:\n",
        "                    b = c\n",
        "                else:\n",
        "                    a = c\n",
        "            return c"
      ]
    },
    {
      "cell_type": "code",
      "execution_count": null,
      "metadata": {
        "id": "H7vBmtRfzq4U"
      },
      "outputs": [],
      "source": [
        "import math as m\n",
        "import matplotlib.pyplot as plt\n",
        "#muestra automaticamente los graficos sin usar plt.show()\n",
        "%matplotlib inline \n",
        "import numpy as np\n",
        "def f(x):\n",
        "    return x - m.exp(-x) "
      ]
    },
    {
      "cell_type": "code",
      "execution_count": null,
      "metadata": {
        "id": "jD0y4Zidzq4U",
        "outputId": "31eb9b24-a792-4e51-f90a-f26055d744be"
      },
      "outputs": [
        {
          "name": "stdout",
          "output_type": "stream",
          "text": [
            "seleccione el numero de iteraciones: 10\n",
            "seleccione el error permitido: 0.00001\n",
            "root biseccion(pasos) =  0.56689453125 estrella\n",
            "root biseccion(epsilon) =  0.5671539306640625 diamante\n"
          ]
        },
        {
          "data": {
            "image/png": "[encoded data removed]",
            "text/plain": [
              "<Figure size 432x288 with 1 Axes>"
            ]
          },
          "metadata": {
            "needs_background": "light"
          },
          "output_type": "display_data"
        }
      ],
      "source": [
        "# calcular raices con la funcion definida\n",
        "root1 = biseccion(0,1,f,0)\n",
        "root2 = biseccion(0,1,f,1)\n",
        "print('root biseccion(pasos) = ', root1, 'estrella')\n",
        "print('root biseccion(epsilon) = ', root2, 'diamante')\n",
        "xx = np.linspace(0,1,100)\n",
        "# las funciones aplican solo para argumentos escalares, np.vectorize \n",
        "# transforma la funcion para que pueda usarse sobre arreglos creados con numpy.\n",
        "vf = np.vectorize(f) \n",
        "yy = vf(xx)\n",
        "# dibujar raices \n",
        "rx = [root1, root2]\n",
        "ry = [0,0]\n",
        "yy2 = np.multiply(xx,0)\n",
        "plt.plot(xx,yy,'b--',lw=1.5)\n",
        "plt.plot(xx,yy2,'k',lw=1.7)\n",
        "plt.scatter(rx[1],ry[1],marker = 'D',s = 100)\n",
        "plt.scatter(rx[0],ry[0],marker = '*',s = 150)\n",
        "plt.xlim([0,1])\n",
        "plt.ylim([-0.4,0.4])\n",
        "plt.xlabel('x')\n",
        "plt.ylabel('y')\n",
        "plt.grid(True)"
      ]
    },
    {
      "cell_type": "markdown",
      "metadata": {
        "id": "3yN1wZE1zq4V"
      },
      "source": [
        ""
      ]
    }
  ],
  "metadata": {
    "kernelspec": {
      "display_name": "Python 3",
      "language": "python",
      "name": "python3"
    },
    "language_info": {
      "codemirror_mode": {
        "name": "ipython",
        "version": 3
      },
      "file_extension": ".py",
      "mimetype": "text/x-python",
      "name": "python",
      "nbconvert_exporter": "python",
      "pygments_lexer": "ipython3",
      "version": "3.6.6"
    },
    "colab": {
      "name": "biseccion_posFalsa-checkpoint.ipynb",
      "provenance": [],
      "include_colab_link": true
    }
  },
  "nbformat": 4,
  "nbformat_minor": 0
}