{
  "cells": [
    {
      "cell_type": "markdown",
      "metadata": {
        "id": "view-in-github",
        "colab_type": "text"
      },
      "source": [
        "<a href=\"https://colab.research.google.com/github/Rossember555/a/blob/main/Regresion/Intro_Tensorflow/Introduccion-tensorflow.ipynb\" target=\"_parent\"><img src=\"https://colab.research.google.com/assets/colab-badge.svg\" alt=\"Open In Colab\"/></a>"
      ]
    },
    {
      "cell_type": "markdown",
      "metadata": {
        "id": "hUwnHK48Dkfj"
      },
      "source": [
        "# Introducción a TensorFlow\n",
        "\n",
        "**¿Que es Tensorflow?**\n",
        "Es una libreria para machine learning (open-source) especializada en redes neuronales. fue diseñada por Google y puede rodar sobre arquitecturas de CPU y/o GPU.\n",
        "\n",
        "* **Documentacion oficial de Tensorflow** [aquí](https://www.tensorflow.org/guide/low_level_intro?hl=es) "
      ]
    },
    {
      "cell_type": "code",
      "execution_count": null,
      "metadata": {
        "id": "XaLxTKxKDkfn"
      },
      "outputs": [],
      "source": [
        "import tensorflow as tf"
      ]
    },
    {
      "cell_type": "markdown",
      "metadata": {
        "id": "-QUEv8rmDkfo"
      },
      "source": [
        "En Tensorflow se consideran flujos de datos, a estos flujos los llamamos **grafos computacionales** y los datos (estructuras de datos) que son manipulados a lo largo del proceso son llamados Tensores. Consideramos tres tipos de datos:\n",
        "* `tf.constant`\n",
        "* `tf.variable`\n",
        "* `tf.placeholder`"
      ]
    },
    {
      "cell_type": "markdown",
      "metadata": {
        "id": "2-MDuIJ3Dkfp"
      },
      "source": [
        "### Constantes\n",
        "\n",
        "El primer objeto tensorial que consideramos es el tipo constante `\n",
        "tf.constant`. "
      ]
    },
    {
      "cell_type": "code",
      "execution_count": null,
      "metadata": {
        "id": "CUniVioqDkfp",
        "outputId": "08261ba0-eb67-4301-907f-415c49b11e92"
      },
      "outputs": [
        {
          "data": {
            "text/plain": [
              "<tf.Tensor 'Const:0' shape=() dtype=string>"
            ]
          },
          "execution_count": 2,
          "metadata": {},
          "output_type": "execute_result"
        }
      ],
      "source": [
        "hello  = tf.constant('Hola Mundo')\n",
        "#type(hello)\n",
        "hello"
      ]
    },
    {
      "cell_type": "code",
      "execution_count": null,
      "metadata": {
        "id": "fgoIm-ccDkfq",
        "outputId": "1518a00f-e3fd-410c-c543-600bd225df7d"
      },
      "outputs": [
        {
          "data": {
            "text/plain": [
              "tensorflow.python.framework.ops.Tensor"
            ]
          },
          "execution_count": 3,
          "metadata": {},
          "output_type": "execute_result"
        }
      ],
      "source": [
        "x = tf.constant(10)\n",
        "type(x)"
      ]
    },
    {
      "cell_type": "markdown",
      "metadata": {
        "id": "Aw90MVW9Dkfr"
      },
      "source": [
        "### Ejecutando una sesion de Tensorflow\n",
        "\n",
        "Los tensores que definimos previamente solo son ejecutados dentro un ambiente en tensorflow que se denomina una sesion de ejecucion `tf.session`. Estos objetos encapsulan varios tensores y todas las operaciones que con ellos queramos realizar."
      ]
    },
    {
      "cell_type": "code",
      "execution_count": null,
      "metadata": {
        "id": "MwZmU4LBDkfv",
        "outputId": "9bb125fd-68c0-4d50-ea6b-57bab2ff7754"
      },
      "outputs": [
        {
          "data": {
            "text/plain": [
              "b'Hola Mundo'"
            ]
          },
          "execution_count": 4,
          "metadata": {},
          "output_type": "execute_result"
        }
      ],
      "source": [
        "sess = tf.Session()\n",
        "sess.run(hello)"
      ]
    },
    {
      "cell_type": "code",
      "execution_count": null,
      "metadata": {
        "id": "XfbALOgnDkfw",
        "outputId": "1fc4b7f7-81de-4394-8504-a9a4f75794c0"
      },
      "outputs": [
        {
          "data": {
            "text/plain": [
              "10"
            ]
          },
          "execution_count": 5,
          "metadata": {},
          "output_type": "execute_result"
        }
      ],
      "source": [
        "sess.run(x)"
      ]
    },
    {
      "cell_type": "markdown",
      "metadata": {
        "id": "0omgqI4-Dkfy"
      },
      "source": [
        "Consideremos una session con varios tensores y operaciones entre ellos:"
      ]
    },
    {
      "cell_type": "code",
      "execution_count": null,
      "metadata": {
        "id": "KGWon9ODDkfz",
        "outputId": "f3c2d3d8-c1ff-4371-ea2a-e1de77f501f7"
      },
      "outputs": [
        {
          "name": "stdout",
          "output_type": "stream",
          "text": [
            "Addition 3\n",
            "Subtraction 5\n",
            "Multiplication -4\n",
            "Division -4.0\n"
          ]
        }
      ],
      "source": [
        "x = tf.constant(4)\n",
        "y = tf.constant(-1)\n",
        "\n",
        "with tf.Session() as sess:\n",
        "    print('Addition',sess.run(x+y))\n",
        "    print('Subtraction',sess.run(x-y))\n",
        "    print('Multiplication',sess.run(x*y))\n",
        "    print('Division',sess.run(x/y))"
      ]
    },
    {
      "cell_type": "markdown",
      "metadata": {
        "id": "6is5GjstDkfz"
      },
      "source": [
        "## Operaciones entre tensores de mayor-rango\n",
        "\n",
        "Los tensores que aqui se definen comparten un paralelo con el tensor matematico en el sentido de que un vector, una matriz o una hiper-matriz definen tensores de diferente dimensionalidad o **rango** [Ver documentacion](https://www.tensorflow.org/guide/tensors?hl=es)."
      ]
    },
    {
      "cell_type": "code",
      "execution_count": null,
      "metadata": {
        "id": "LyzuWvqiDkf0",
        "outputId": "264152db-9d2f-4b2d-c59b-6a0cba70bfe0"
      },
      "outputs": [
        {
          "name": "stdout",
          "output_type": "stream",
          "text": [
            "Tensor(\"MatMul:0\", shape=(1, 1), dtype=int32)\n",
            "[[12]]\n"
          ]
        }
      ],
      "source": [
        "m1 = tf.constant([[2, 2]])\n",
        "m2 = tf.constant([[3],\n",
        "                  [3]])\n",
        "dot_operation = tf.matmul(m1, m2) # producto entre matrices\n",
        "\n",
        "print(dot_operation)  # wrong! no result\n",
        "\n",
        "# method2 use session\n",
        "with tf.Session() as sess:\n",
        "    result_ = sess.run(dot_operation)\n",
        "    print(result_)"
      ]
    },
    {
      "cell_type": "markdown",
      "metadata": {
        "id": "kDpwGzdpDkf1"
      },
      "source": [
        "### Placeholders\n",
        "\n",
        "[Ver documentacion](https://www.tensorflow.org/api_docs/python/tf/placeholder)"
      ]
    },
    {
      "cell_type": "code",
      "execution_count": null,
      "metadata": {
        "id": "Qz0phB6ODkf1",
        "outputId": "8da544a2-0305-45ec-8716-ffb333876218"
      },
      "outputs": [
        {
          "name": "stdout",
          "output_type": "stream",
          "text": [
            "3.0\n",
            "[[6. 6.]\n",
            " [6. 6.]]\n"
          ]
        }
      ],
      "source": [
        "x1 = tf.placeholder(dtype=tf.float32, shape=None)\n",
        "y1 = tf.placeholder(dtype=tf.float32, shape=None)\n",
        "z1 = x1 + y1\n",
        "\n",
        "x2 = tf.placeholder(dtype=tf.float32, shape=[2, 1])\n",
        "y2 = tf.placeholder(dtype=tf.float32, shape=[1, 2])\n",
        "z2 = tf.matmul(x2, y2)\n",
        "\n",
        "with tf.Session() as sess:\n",
        "    # when only one operation to run\n",
        "    z1_value = sess.run(z1, feed_dict={x1: 1, y1: 2})\n",
        "\n",
        "    # when run multiple operations\n",
        "    z1_value, z2_value = sess.run(\n",
        "        [z1, z2],       # run them together\n",
        "        feed_dict={\n",
        "            x1: 1, y1: 2,\n",
        "            x2: [[2], [2]], y2: [[3, 3]]\n",
        "        })\n",
        "    print(z1_value)\n",
        "    print(z2_value)"
      ]
    },
    {
      "cell_type": "markdown",
      "metadata": {
        "id": "Of8RTtXEDkf2"
      },
      "source": [
        "#### Variables\n",
        "\n",
        "[Ver documentacion](https://www.tensorflow.org/api_docs/python/tf/Variable)"
      ]
    },
    {
      "cell_type": "code",
      "execution_count": null,
      "metadata": {
        "id": "DfRC99pjDkf2",
        "outputId": "a8b306d8-0577-4137-b506-c2d7fa86b4a0"
      },
      "outputs": [
        {
          "name": "stdout",
          "output_type": "stream",
          "text": [
            "1\n",
            "2\n",
            "3\n"
          ]
        }
      ],
      "source": [
        "var = tf.Variable(0)    # our first variable in the \"global_variable\" set\n",
        "\n",
        "add_operation = tf.add(var, 1)\n",
        "update_operation = tf.assign(var, add_operation)\n",
        "\n",
        "with tf.Session() as sess:\n",
        "    # once define variables, you have to initialize them by doing this\n",
        "    sess.run(tf.global_variables_initializer())\n",
        "    for _ in range(3):\n",
        "        sess.run(update_operation)\n",
        "        print(sess.run(var))"
      ]
    },
    {
      "cell_type": "code",
      "execution_count": null,
      "metadata": {
        "id": "Qd1qhs8JDkf3"
      },
      "outputs": [],
      "source": [
        ""
      ]
    }
  ],
  "metadata": {
    "kernelspec": {
      "display_name": "Python 3",
      "language": "python",
      "name": "python3"
    },
    "language_info": {
      "codemirror_mode": {
        "name": "ipython",
        "version": 3
      },
      "file_extension": ".py",
      "mimetype": "text/x-python",
      "name": "python",
      "nbconvert_exporter": "python",
      "pygments_lexer": "ipython3",
      "version": "3.6.5"
    },
    "colab": {
      "name": "Introduccion-tensorflow.ipynb",
      "provenance": [],
      "include_colab_link": true
    }
  },
  "nbformat": 4,
  "nbformat_minor": 0
}