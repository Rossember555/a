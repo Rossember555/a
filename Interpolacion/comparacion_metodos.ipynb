{
  "cells": [
    {
      "cell_type": "markdown",
      "metadata": {
        "id": "view-in-github",
        "colab_type": "text"
      },
      "source": [
        "<a href=\"https://colab.research.google.com/github/Rossember555/a/blob/main/Interpolacion/comparacion_metodos.ipynb\" target=\"_parent\"><img src=\"https://colab.research.google.com/assets/colab-badge.svg\" alt=\"Open In Colab\"/></a>"
      ]
    },
    {
      "cell_type": "markdown",
      "metadata": {
        "id": "81Tq2zeRypdn"
      },
      "source": [
        "# Comparacion de los métodos de interpolacion\n",
        "<hr />\n",
        "##### En este cuaderno realizamos un ejercicio donde comparamos los tres métodos de interpolacion contenidos en el curso (Newton, Lagrange y trazadores cubicos). A la luz del Teorema de Interpolacion sabemos que el polinomio obtenido por el método de Lagrange $L(x)$ debe ser igual a aquel obtenido por el método de Newton $P_N(x)$, i.e., \n",
        "\\begin{equation}\n",
        "P_N(x) = L(x)\n",
        "\\end{equation}\n",
        "\\begin{equation}\n",
        "f[x_0]+\\sum_{k=1}^n \\left( f[x_0,\\ldots,x_k]\\prod_{i=0}^{k-1} (x-x_i) \\right) = \\sum_{i=0}^n y_i\\left(\\prod_{j \\neq i}^n \\frac{x-x_j}{x_i-x_j} \\right)\n",
        "\\end{equation}\n",
        "##### ¿Aplica este argumento para el interpolador calculado por el método de los trazadores cúbicos?. En este ejercicio comprobaremos la respuesta."
      ]
    },
    {
      "cell_type": "code",
      "execution_count": null,
      "metadata": {
        "id": "yfgWbac4ypds"
      },
      "outputs": [],
      "source": [
        "# En este ejercicio todas las funciones que construyen \n",
        "# los diferentes interpoladores estan contenidas en la \n",
        "# libreria interpolators.py. Aqui vemos que podemos \n",
        "# importar dichas funciones a este cuaderno.\n",
        "import numpy as np \n",
        "import matplotlib.pyplot as plt\n",
        "import interpolators as mts\n",
        "\n",
        "datos = [[-1,1.5],[0,2],[1,2.3],[2,5]];\n",
        "\n",
        "# construimos los tres interpoladores\n",
        "pol   = mts.CSpol(datos);\n",
        "lpol  = mts.LagrangePol(datos);\n",
        "Table, ddpol = mts.NewtonPol(datos);\n",
        "\n",
        "#creamos tablas de datos para graficar los tres interpoladores.\n",
        "x  = np.arange(-2,2.1,0.1);\n",
        "y  = np.zeros(np.size(x));\n",
        "y2 = np.zeros(np.size(x)); \n",
        "y3 = np.zeros(np.size(x)); \n",
        "for i in range(np.size(x)):\n",
        "    y[i]  = pol(x[i]);\n",
        "    y2[i] = lpol(x[i]);\n",
        "    y3[i] = ddpol(x[i]);"
      ]
    },
    {
      "cell_type": "code",
      "execution_count": null,
      "metadata": {
        "id": "n8LcImGJypdu",
        "outputId": "d295833f-b6b9-47b0-daf3-91269bd3a971"
      },
      "outputs": [
        {
          "data": {
            "image/png": "[encoded data removed]",
            "text/plain": [
              "<matplotlib.figure.Figure at 0x11049d3c8>"
            ]
          },
          "metadata": {},
          "output_type": "display_data"
        }
      ],
      "source": [
        "# Graficamos los tres interpoladores y \n",
        "# comparamos con la lista de datos.\n",
        "for p in datos:\n",
        "    plt.scatter(p[0],p[1],color='b',s = 100)\n",
        "plt.plot(x,y,'r',label='Cubic Splines pol')\n",
        "plt.plot(x,y2,'-*',label='Lagrange pol')\n",
        "plt.plot(x,y3,'k',label='Newton pol')\n",
        "plt.legend()\n",
        "plt.grid(True)\n",
        "plt.show()"
      ]
    },
    {
      "cell_type": "markdown",
      "metadata": {
        "id": "xs853nClypdv"
      },
      "source": [
        "<hr />\n",
        "##### El resultado del ejercicio muestra que en efecto los polinomios de Lagrange y Newton son identicos, pero el polinomio obtenido por medio del metodo de trazadores cúbicos es diferente. ¿Puede explicar este resultado?"
      ]
    }
  ],
  "metadata": {
    "kernelspec": {
      "display_name": "Python 3",
      "language": "python",
      "name": "python3"
    },
    "language_info": {
      "codemirror_mode": {
        "name": "ipython",
        "version": 3
      },
      "file_extension": ".py",
      "mimetype": "text/x-python",
      "name": "python",
      "nbconvert_exporter": "python",
      "pygments_lexer": "ipython3",
      "version": "3.6.4"
    },
    "colab": {
      "name": "comparacion_metodos.ipynb",
      "provenance": [],
      "include_colab_link": true
    }
  },
  "nbformat": 4,
  "nbformat_minor": 0
}