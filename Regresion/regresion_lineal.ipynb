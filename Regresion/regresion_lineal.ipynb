{
  "cells": [
    {
      "cell_type": "markdown",
      "metadata": {
        "id": "view-in-github",
        "colab_type": "text"
      },
      "source": [
        "<a href=\"https://colab.research.google.com/github/Rossember555/a/blob/main/Regresion/regresion_lineal.ipynb\" target=\"_parent\"><img src=\"https://colab.research.google.com/assets/colab-badge.svg\" alt=\"Open In Colab\"/></a>"
      ]
    },
    {
      "cell_type": "markdown",
      "metadata": {
        "id": "C5QKnjw-DrEN"
      },
      "source": [
        "# Introducción a los métodos de regresión\n",
        "<hr />\n",
        "##### Aqui estudiamos un conjunto de métodos que buscan ajustar un modelo a un cierto conjunto de datos, en este sentido entendemos \"ajuste\" por algo aproximado, donde el modelo no necesariamente reproduce los datos de forma exacta como sucede con las técnicas de interpolacion. Consideramos un conjunto de datos: \n",
        "\n",
        "\\begin{equation}\n",
        "data = \\left((x_0,y_0),(x_1,y_1),\\ldots,(x_n,y_n)\\right),\n",
        "\\end{equation}\n",
        "##### y tomamos el caso de ajustar un modelo lineal. Por lo tanto, buscaremos un modelo cuya ecuacion este dada por:\n",
        "\n",
        "\\begin{equation}\n",
        "y = f(x) = a_0 +a_1 x\n",
        "\\end{equation}\n",
        "##### Un cierto modelo lineal no puede en general pasar por todos los puntos del conjunto de datos, en ese sentido tendriamos algo como lo que se muestra a continuación:\n",
        "<img src=\"https://github.com/pachocamacho1990/MetNum_Py/blob/master/Regresion/figuras_mv/ajuste.png?raw=1\" alt=\"Alt text that describes the graphic\" title=\"Title text\" />\n",
        "\n",
        "##### vemos que para cada dato hay una diferencia entre su valor actual $y_i$ y el valor que predice el modelo $f(x_i)$, y a esta diferencia nos referimos con el error del modelo respecto al punto $(x_i,y_i)$. En este sentido,  el objetivo de un método de regresion es minimizar este error respecto de todos los puntos del conjunto de datos. En esta introduccion construiremos un modelo de regresion considerando el error cuadratico total, el cual está dado por:\n",
        "\n",
        "\\begin{equation}\n",
        "E_c = \\sum_{i=0}^n (y_i-f(x_i))^2\n",
        "\\end{equation}\n",
        "\n",
        "##### El mejor modelo posible es aquel que logre el minimo valor posible de $E_c$. Si consideramos la forma general del modelo lineal, tendremos que:\n",
        "\n",
        "\\begin{equation}\n",
        "E_c(a_0,a_1) = \\sum_{i=0}^n (y_i-a_0-a_1 x_i)^2\n",
        "\\end{equation}\n",
        "\n",
        "##### y escribimos $E_c(a_0,a_1)$ indicando que el valor del error cuadrático total depende de la pendiente y el intercepto del modelo particular escogido. Así, podemos buscar el valor mínimo del error cuadrático mediante la ecuación: \n",
        "\n",
        "\\begin{equation}\n",
        "    \\nabla E_c(a_0,a_1) = \\left(\\frac{\\partial E_c}{\\partial a_0},\\frac{\\partial E_c}{\\partial a_1}\\right) = (0,0)\n",
        "\\end{equation}\n",
        "\n",
        "##### Esto conduce al siguiente sistema de ecuaciones:\n",
        "\n",
        "\\begin{equation}\n",
        "    \\begin{bmatrix} (n+1) & \\sum x_i \\\\ \\sum x_i & \\sum x_i^2 \\end{bmatrix}\\begin{bmatrix} a_0 \\\\ a_1 \\end{bmatrix} = \\begin{bmatrix} \\sum y_i \\\\ \\sum x_i y_i \\end{bmatrix}\n",
        "\\end{equation}\n",
        "\n",
        "##### Donde todas las sumatorias consideran $i = 0,\\ldots,n$. Ahora, usando la regla de Cramer es posible obtener la solución de forma rápida, dando como resultado final:\n",
        "\n",
        "\\begin{equation}\n",
        "    \\begin{bmatrix}a_0 \\\\ a_1 \\end{bmatrix} = \n",
        "        \\begin{bmatrix} \n",
        "        \\frac{\\sum y_i \\sum x_i^2 - \\sum x_i \\sum x_i y_i}\n",
        "        {(n+1)\\sum x_i^2 - \\left(\\sum x_i \\right)^2} \\\\ \n",
        "        \\frac{(n+1)\\sum x_i y_i - \\sum x_i \\sum y_i}\n",
        "        {(n+1)\\sum x_i^2 - \\left(\\sum x_i \\right)^2} \n",
        "    \\end{bmatrix}\n",
        "\\end{equation}\n",
        "\n",
        "##### Los valores de $a_0$ y $a_1$ obtenidos garantizan que el modelo lineal correspondiente, garantiza el minimo error cuadrático posible. A este método se le conoce tambien con el nombre de método de mínimos cuadrados.\n",
        "\n",
        "# Coeficiente de Correlación\n",
        "<hr />\n",
        "##### A veces obtener el mejor modelo lineal posible para un cierto conjunto de datos no garantiza que el modelo es adecuado para dicho conjunto. Si el mínimo error cuadrático posible no es suficientemente pequeño, entonces se concluye que el conjunto de datos no describe una relacion lineal (suponiendo que no hay errores considerables en el proceso de toma de los datos). En este sentido, existen ciertos números que sirven de diagnóstico para evaluar la confiabilidad del modelo obtenido, uno de los más famosos es el coeficiente de correlacion, el cual se puede calcular con la siguiente expresión:\n",
        "\n",
        "\\begin{equation}\n",
        "    R^2 = \\frac{(n+1)\\sum x_i y_i - \\sum x_i \\sum y_i}\n",
        "    {\\sqrt{\\left((n+1)\\sum x_i^2 - \\left(\\sum x_i \\right)^2 \\right) \n",
        "    \\left( (n+1)\\sum y_i^2 - \\left(\\sum y_i \\right)^2\\right)}}\n",
        "\\end{equation}\n",
        "\n",
        "##### Esta cantidad toma siempre valores en el rango $[0,1]$. Valores de $R^2$ cercanos a $1.0$ indican que el modelo describe los datos muy bien. Por otro lado, valores de $R^2$ cercanos a $0.0$ indican que el modelo no es adecuado para describir los datos en estudio."
      ]
    },
    {
      "cell_type": "code",
      "execution_count": null,
      "metadata": {
        "id": "R0iXkSwuDrEX"
      },
      "outputs": [],
      "source": [
        "# Esta funcion calcula todas las sumatorias necesarias para \n",
        "# estimar los coeficientes del modelo lineal por regresion. \n",
        "def totales(datos):\n",
        "    [X,Y,XX,YY,XY] = [0.0,0.0,0.0,0.0,0.0]\n",
        "    for p in datos:\n",
        "        X += p[0]\n",
        "        Y += p[1]\n",
        "        XX += pow(p[0],2.0)\n",
        "        YY += pow(p[1],2.0)\n",
        "        XY += p[0]*p[1]\n",
        "    return [X,Y,XX,YY,XY]"
      ]
    },
    {
      "cell_type": "code",
      "execution_count": null,
      "metadata": {
        "id": "3TTP7jfbDrEd"
      },
      "outputs": [],
      "source": [
        "## funcion de minimos cuadrados con modelo lineal\n",
        "\n",
        "def mincua_linear(datos,**args):\n",
        "    [X,Y,XX,YY,XY] = totales(datos)\n",
        "    m = len(datos)\n",
        "    \n",
        "    def linear(x):\n",
        "        a0 = (Y*XX-X*XY)/(m*XX-X*X)\n",
        "        a1 = (m*XY-X*Y)/(m*XX-X*X)\n",
        "        return a0+a1*x \n",
        "    return linear\n",
        "\n",
        "## funcion que calcula el coeficiente de correlación\n",
        "def R2(datos):\n",
        "    import math as mt\n",
        "    [X,Y,XX,YY,XY] = totales(datos)\n",
        "    m = len(datos)\n",
        "    return (m*XY-X*Y)/(mt.sqrt((m*XX-X*X)*(m*YY-Y*Y)))"
      ]
    },
    {
      "cell_type": "code",
      "execution_count": null,
      "metadata": {
        "id": "PtF0Jq-FDrEg"
      },
      "outputs": [],
      "source": [
        "# importamos las librerias necesarias\n",
        "import numpy as np\n",
        "import matplotlib.pyplot as plt\n",
        "import sympy as sym\n",
        "%matplotlib inline"
      ]
    },
    {
      "cell_type": "code",
      "execution_count": null,
      "metadata": {
        "id": "9D8kYCSxDrEg"
      },
      "outputs": [],
      "source": [
        "# tomamos un conjunto de datos de ejemplo \n",
        "# para nuestra primera regresion lineal\n",
        "datos = [(1.0, 1.3), (2.0, 3.5), (3.0, 4.2), (4.0, 5.0), (5.0, 7.0),(6.0, 8.8), (7.0, 10.1), (8.0, 12.5), (9.0, 13.0)]\n",
        "mod_lin = mincua_linear(datos)\n",
        "x = np.linspace(1,9,100)\n",
        "y = mod_lin(x) # modelo lineal\n",
        "r2 = R2(datos) # coeficiente de correlacion"
      ]
    },
    {
      "cell_type": "code",
      "execution_count": null,
      "metadata": {
        "id": "YUJ-_5p4DrEh",
        "outputId": "402c4613-f31b-4f45-8b60-bea3b4b0a2cc"
      },
      "outputs": [
        {
          "data": {
            "image/png": "[encoded data removed]",
            "text/plain": [
              "<Figure size 432x288 with 1 Axes>"
            ]
          },
          "metadata": {},
          "output_type": "display_data"
        }
      ],
      "source": [
        "# Graficamos el modelo obtenido junto con los datos considerados\n",
        "plt.text(1,12,r'$R^2$ = '+str(r2))\n",
        "plt.plot(x,y,'k')\n",
        "for p in datos:\n",
        "    plt.scatter(p[0],p[1],c='r')\n",
        "plt.grid(True)"
      ]
    },
    {
      "cell_type": "markdown",
      "metadata": {
        "id": "kfLN8s8_DrEj"
      },
      "source": [
        "<hr />\n",
        "##### Acabamos de construir con exito nuestro primer modelo de regresion dando como resultado un muy buen coeficiente de correlacion, indicando que los datos describen con bastante confianza un modelo lineal. A continuacion desarrollaremos una version mas sofisticada e introduciremos el uso de simulaciones dinamicas con python y Jupyter.\n",
        "<hr />"
      ]
    },
    {
      "cell_type": "code",
      "execution_count": null,
      "metadata": {
        "id": "oUfkgXbpDrEk",
        "outputId": "449a5c68-2e9e-4fd8-fefc-db41a0062728"
      },
      "outputs": [
        {
          "data": {
            "image/png": "[encoded data removed]",
            "text/plain": [
              "<Figure size 432x288 with 1 Axes>"
            ]
          },
          "metadata": {},
          "output_type": "display_data"
        }
      ],
      "source": [
        "# esta funcion ejecuta el gráfico de regresion para un cierto valor\n",
        "# de la amplitud de ruido en los datos.\n",
        "# -> esta forma se escoge para posterior uso dentro del widget interactivo.\n",
        "\n",
        "##########################################################\n",
        "# Aqui se recomienda al estudiante que analice de forma  #\n",
        "# independiente y autónoma el codigo descrito, donde se  # \n",
        "# introducen varios elementos nuevos que nos permiten    #\n",
        "# construir un gráfico de mejor calidad.                 #\n",
        "##########################################################\n",
        "def plot_reg(amp=0.0):\n",
        "    datos = [(1.0, 1.3), (2.0, 3.5), (3.0, 4.2), (4.0, 5.0), (5.0, 7.0),(6.0, 8.8), (7.0, 10.1), (8.0, 12.5), (9.0, 13.0)]\n",
        "    m = len(datos)\n",
        "    noise = np.random.normal(0,amp,m)\n",
        "    datos_noise = []\n",
        "    \n",
        "    for i,p in enumerate(datos):\n",
        "        datos_noise.append((p[0],p[1]+noise[i]))\n",
        "    model = mincua_linear(datos_noise)\n",
        "    \n",
        "    def model_const(model_str,digits):\n",
        "        concat = []\n",
        "        for p in model_str.split('*'):\n",
        "            if '-' in p:\n",
        "                concat += p.split('-')\n",
        "            else:\n",
        "                concat += p.split('+')\n",
        "        return [concat[0][:digits+2],concat[2][:digits+2]]\n",
        "    \n",
        "    z = sym.symbols('z')\n",
        "    model_st = str(sym.sympify(model(z),z))\n",
        "    cts = model_const(model_st,4)\n",
        "    \n",
        "    r2 = round(R2(datos_noise),5)\n",
        "    x = np.arange(0.0,10.0,0.1)\n",
        "    v_model = np.vectorize(model)\n",
        "    y = v_model(x)\n",
        "    plt.plot(x,y)\n",
        "    plt.text(0, 13, r'$R^2$ = '+str(r2), fontsize=10)\n",
        "    plt.text(0, 12,'y = '+cts[0]+'x + '+cts[1], fontsize=10)\n",
        "    for p in datos_noise:\n",
        "        plt.scatter(p[0],p[1],c='r')\n",
        "    plt.grid(True)\n",
        "    plt.xlim([-2, 12])\n",
        "    plt.ylim([-1, 16])\n",
        "    return None\n",
        "\n",
        "plot_reg()"
      ]
    },
    {
      "cell_type": "markdown",
      "metadata": {
        "id": "VqfxajBnDrEl"
      },
      "source": [
        "##### En el bloque anterior, el parametro \"amp\" está asociado con la amplitud máxima de un ruido que se agrega a los datos de manera que se pueda verificar la interpretacion del coeficiente de correlacion que se discutió previamente. "
      ]
    },
    {
      "cell_type": "code",
      "execution_count": null,
      "metadata": {
        "id": "IJNIBjDZDrEl",
        "outputId": "e1911b8e-a391-4e8e-899c-af86434ec52f"
      },
      "outputs": [
        {
          "data": {
            "image/png": "[encoded data removed]",
            "text/plain": [
              "<Figure size 576x216 with 2 Axes>"
            ]
          },
          "metadata": {},
          "output_type": "display_data"
        }
      ],
      "source": [
        "plt.figure(figsize=(8,3))\n",
        "plt.subplot(121)\n",
        "plt.title('buena correlación')\n",
        "plot_reg()\n",
        "plt.subplot(122)\n",
        "plt.title('mala correlación')\n",
        "plot_reg(5.0)"
      ]
    },
    {
      "cell_type": "markdown",
      "metadata": {
        "id": "xdUKTMlODrEm"
      },
      "source": [
        "# Simulaciones dinamicas con ipywidgets\n",
        "<hr />\n",
        "##### Para poder usar ipywidgets con un servidor montado desde tu pc, debes seguir las siguientes instrucciones de instalación: \n",
        "https://ipywidgets.readthedocs.io/en/latest/user_install.html"
      ]
    },
    {
      "cell_type": "code",
      "execution_count": null,
      "metadata": {
        "id": "IzWxTrqIDrEm",
        "outputId": "b316f202-eeba-4fab-cc3d-bfb992f28cd1",
        "colab": {
          "referenced_widgets": [
            "ebee7eed6f6e46a183f23fedccaa448a"
          ]
        }
      },
      "outputs": [
        {
          "data": {
            "application/vnd.jupyter.widget-view+json": {
              "model_id": "ebee7eed6f6e46a183f23fedccaa448a",
              "version_major": 2,
              "version_minor": 0
            },
            "text/plain": [
              "interactive(children=(FloatSlider(value=0.0, description='amp', max=5.0), Output()), _dom_classes=('widget-int…"
            ]
          },
          "metadata": {},
          "output_type": "display_data"
        }
      ],
      "source": [
        "# importamos la libreria ipywidgets y luego ejecutamos \n",
        "# la funcion interactive. Aqui tenemos un ejemplo sencillo \n",
        "# de su uso considerando la funcion plot_reg() \n",
        "# construida previamente.\n",
        "from ipywidgets import interactive, fixed\n",
        "interactive(plot_reg,amp=(0.0,5.0))"
      ]
    }
  ],
  "metadata": {
    "kernelspec": {
      "display_name": "Python 3",
      "language": "python",
      "name": "python3"
    },
    "language_info": {
      "codemirror_mode": {
        "name": "ipython",
        "version": 3
      },
      "file_extension": ".py",
      "mimetype": "text/x-python",
      "name": "python",
      "nbconvert_exporter": "python",
      "pygments_lexer": "ipython3",
      "version": "3.6.4"
    },
    "colab": {
      "name": "regresion_lineal.ipynb",
      "provenance": [],
      "include_colab_link": true
    }
  },
  "nbformat": 4,
  "nbformat_minor": 0
}