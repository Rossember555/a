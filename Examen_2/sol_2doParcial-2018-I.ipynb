{
  "cells": [
    {
      "cell_type": "markdown",
      "metadata": {
        "id": "view-in-github",
        "colab_type": "text"
      },
      "source": [
        "<a href=\"https://colab.research.google.com/github/Rossember555/a/blob/main/Examen_2/sol_2doParcial-2018-I.ipynb\" target=\"_parent\"><img src=\"https://colab.research.google.com/assets/colab-badge.svg\" alt=\"Open In Colab\"/></a>"
      ]
    },
    {
      "cell_type": "markdown",
      "metadata": {
        "id": "aUlcoWagDfw-"
      },
      "source": [
        "# Retroalimentación Segundo Parcial (2018-I)\n",
        "<hr/>"
      ]
    },
    {
      "cell_type": "markdown",
      "metadata": {
        "id": "SpGspF6iDfxC"
      },
      "source": [
        "# Primer Punto (Interpolación)\n",
        "#### En la siguiente Tabla se muestra la producción mundial total de petróleo en millones de barriles diarios. \n",
        "\n",
        "| año  | barriles/día (millones) |   |   |   |\n",
        "|------|-------------------------|---|---|---|\n",
        "| 1994 | 67052                   |   |   |   |\n",
        "| 1995 | 68008                   |   |   |   |\n",
        "| 1996 | 69803                   |   |   |   |\n",
        "| 1997 | 72024                   |   |   |   |\n",
        "| 1998 | 73400                   |   |   |   |\n",
        "| 1999 | 72063                   |   |   |   |\n",
        "| 2000 | 74669                   |   |   |   |\n",
        "| 2001 | 74487                   |   |   |   |\n",
        "| 2002 | 74065                   |   |   |   |\n",
        "| 2003 | 76777                   |   |   |   |\n",
        "\n",
        "* Calcule el polinomio de interpolacion de Lagrange \n",
        "* Calcule el polinomio de interpolacion de Newton\n",
        "* Use los polinomios encontrados para predecir la producción total de petróleo para el año 2010.¿Tiene sentido su resultado?\n",
        "* Grafique ambos polinomios en una misma ventana junto con los datos de la tabla.\n",
        "* Según los resultados en los pasos anteriores decida si los métodos de interpolación son adecuados para realizar predicciones en este caso particular."
      ]
    },
    {
      "cell_type": "code",
      "execution_count": null,
      "metadata": {
        "id": "AykTfKdhDfxD"
      },
      "outputs": [],
      "source": [
        "# Solucion primer punto\n",
        "datos = [[1994,67052],[1995,68008],[1996,69803],[1997,72024],\\\n",
        "         [1998,73400],[1999,72063],[2000,74669],[2001,74487],\\\n",
        "         [2002,74065],[2003,76777]]"
      ]
    },
    {
      "cell_type": "code",
      "execution_count": null,
      "metadata": {
        "id": "vsYfTCwWDfxE"
      },
      "outputs": [],
      "source": [
        "def LagrangePol(datos):\n",
        "    # la funcion LagrangePol crea un objeto que evalua un polinomio\n",
        "    # en un cierto valor de x\n",
        "    def L(k, x):  # pol $L_k(x)=\\prod\\limits_{i \\neq k}\\frac{x-x_i}{x_k-x_i}$\n",
        "        out = 1.0\n",
        "        for i, p in enumerate(datos):\n",
        "            if i != k:\n",
        "                out *= (x-p[0])/(datos[k][0]-p[0])\n",
        "        return out\n",
        "\n",
        "    def P(x):  # polinomio $P(x)=\\sum\\limits_{k}f(x_k)L_k(x)$\n",
        "        lag = 0.0\n",
        "        for k, p in enumerate(datos):\n",
        "            lag += p[1]*L(k, x)\n",
        "        return lag\n",
        "\n",
        "    return P\n",
        "\n",
        "def NewtonPol(dat):\n",
        "    # la funcion NewtonPol crea un objeto que evalua un polinomio en un cierto valor de x\n",
        "    n = len(dat)-1\n",
        "    F = [[0 for x in dat] for x in dat]  # crear tabla nula\n",
        "\n",
        "    for i, p in enumerate(dat):  # condiciones iniciales\n",
        "        F[i][0] = p[1]\n",
        "\n",
        "    for i in range(1, n+1):  # tabla de diferencias divididas\n",
        "        for j in range(1, i+1):\n",
        "            F[i][j] = (F[i][j-1]-F[i-1][j-1])/(dat[i][0]-dat[i-j][0])\n",
        "\n",
        "    def L(k, x):  # polinomio $L_k(x)=\\prod\\limits_{i \\leq k}(x-x_i)$\n",
        "        out = 1.0\n",
        "        for i, p in enumerate(dat):\n",
        "            if i <= k:\n",
        "                out *= (x-p[0])\n",
        "        return out\n",
        "\n",
        "    def P(x):  # $P(x)=f[x_0]+\\sum_{k=1}^{n}f[x_0,x_1,\\ldots,x_k]L_{k-1}(x)$\n",
        "        newt = 0.0\n",
        "        for i in range(1, n+1):\n",
        "            newt += F[i][i]*L(i-1, x)\n",
        "        return newt + F[0][0]\n",
        "\n",
        "    return F, P"
      ]
    },
    {
      "cell_type": "code",
      "execution_count": null,
      "metadata": {
        "id": "BYKpyluiDfxF"
      },
      "outputs": [],
      "source": [
        "pol_lag = LagrangePol(datos)\n",
        "table, pol_newt = NewtonPol(datos)"
      ]
    },
    {
      "cell_type": "code",
      "execution_count": null,
      "metadata": {
        "id": "GeFVysfDDfxG",
        "outputId": "08899fa8-d0b9-428c-b512-0cfed842e3b2"
      },
      "outputs": [
        {
          "data": {
            "text/plain": [
              "<matplotlib.legend.Legend at 0x10bbf7be0>"
            ]
          },
          "execution_count": 4,
          "metadata": {},
          "output_type": "execute_result"
        },
        {
          "data": {
            "image/png": "[encoded data removed]",
            "text/plain": [
              "<Figure size 432x288 with 1 Axes>"
            ]
          },
          "metadata": {},
          "output_type": "display_data"
        }
      ],
      "source": [
        "import matplotlib.pyplot as plt\n",
        "%matplotlib inline\n",
        "import numpy as np \n",
        "xx = np.linspace(1994,2010,100)\n",
        "yy = pol_lag(xx)\n",
        "yy2 = pol_newt(xx)\n",
        "for p in datos:\n",
        "    plt.scatter(p[0],p[1],c='k',s=100)\n",
        "plt.plot(xx,yy,'*-g',label='lagrange')\n",
        "plt.plot(xx,yy2,'b', label='newton')\n",
        "plt.ylim([0,100000])\n",
        "plt.xlabel('año')\n",
        "plt.ylabel(r'Barriles/día ($\\times 10^6$)')\n",
        "plt.grid(True)\n",
        "plt.legend()"
      ]
    },
    {
      "cell_type": "markdown",
      "metadata": {
        "id": "roNc8ZWaDfxI"
      },
      "source": [
        "#### R/ En este caso los polinomios interpoladores no son modelos adecuados para los datos en estudio pues dan predicciones que contradicen la lógica de las variables estudiadas."
      ]
    },
    {
      "cell_type": "markdown",
      "metadata": {
        "id": "n1_Ck8PzDfxJ"
      },
      "source": [
        "# Segundo Punto (Regresión Lineal)\n",
        "#### Una empresa está probando en el mercado un nuevo refresco en 22 ciudades de población aproximadamente igual. El precio de venta (en dólares) y el número de refrescos vendidos por semana en las ciudades son los siguientes:\n",
        "|precio| ventas/semana |   |   |   |\n",
        "|------|---------------|---|---|---|\n",
        "| 0.59 | 3980          |   |   |   |\n",
        "| 0.80 | 2200          |   |   |   |\n",
        "| 0.95 | 1850          |   |   |   |\n",
        "| 0.45 | 6100          |   |   |   |\n",
        "| 0.79 | 2100          |   |   |   |\n",
        "| 0.99 | 1700          |   |   |   |\n",
        "| 0.90 | 2000          |   |   |   |\n",
        "| 0.65 | 4200          |   |   |   |\n",
        "| 0.79 | 2440          |   |   |   |\n",
        "| 0.69 | 3300          |   |   |   |\n",
        "\n",
        "* Usando mínimos cuadrados con los datos de la tabla, determine la curva de demanda que relaciona el número de ventas por semana $S$ en función del precio por unidad $P$ usando un modelo lineal:\n",
        "\n",
        "\\begin{equation}\n",
        "S(P) = a_0 + a_1 P\n",
        "\\end{equation}\n",
        "\n",
        "* Calcule el coeficiente de correlacion asociado.\n",
        "* Grafique el modelo lineal obtenido junto con los datos de la tabla."
      ]
    },
    {
      "cell_type": "code",
      "execution_count": null,
      "metadata": {
        "id": "dX6g1HxiDfxK"
      },
      "outputs": [],
      "source": [
        "import numpy as np\n",
        "import matplotlib.pyplot as plt\n",
        "\n",
        "def totales(datos):\n",
        "    [X,Y,XX,YY,XY] = [0.0,0.0,0.0,0.0,0.0]\n",
        "    for p in datos:\n",
        "        X += p[0]\n",
        "        Y += p[1]\n",
        "        XX += pow(p[0],2.0)\n",
        "        YY += pow(p[1],2.0)\n",
        "        XY += p[0]*p[1]\n",
        "    return [X,Y,XX,YY,XY]\n",
        "\n",
        "def mincua_linear(datos,**args):\n",
        "    [X,Y,XX,YY,XY] = totales(datos)\n",
        "    m = len(datos)\n",
        "    \n",
        "    def linear(x):\n",
        "        a0 = (Y*XX-X*XY)/(m*XX-X*X)\n",
        "        a1 = (m*XY-X*Y)/(m*XX-X*X)\n",
        "        return a0+a1*x \n",
        "    return linear\n",
        "\n",
        "## funcion que calcula el coeficiente de correlación\n",
        "def R2(datos):\n",
        "    import math as mt\n",
        "    [X,Y,XX,YY,XY] = totales(datos)\n",
        "    m = len(datos)\n",
        "    return (m*XY-X*Y)/(mt.sqrt((m*XX-X*X)*(m*YY-Y*Y)))"
      ]
    },
    {
      "cell_type": "code",
      "execution_count": null,
      "metadata": {
        "id": "8T5iPqxADfxL"
      },
      "outputs": [],
      "source": [
        "datos = [[0.59,3980],[0.80,2200],[0.95,1850],[0.45,6100],[0.79,2100],\\\n",
        "         [0.99,1700],[0.90,2000],[0.65,4200],[0.79,2440],[0.69,3300]]"
      ]
    },
    {
      "cell_type": "code",
      "execution_count": null,
      "metadata": {
        "id": "5L6dr_l0DfxL",
        "outputId": "add5aadc-81e0-431b-bb7a-06f8f17e1736"
      },
      "outputs": [
        {
          "name": "stdout",
          "output_type": "stream",
          "text": [
            "-0.9451491030171313\n"
          ]
        }
      ],
      "source": [
        "model = mincua_linear(datos)\n",
        "r2 = R2(datos)\n",
        "print(r2)"
      ]
    },
    {
      "cell_type": "code",
      "execution_count": null,
      "metadata": {
        "id": "OhARbIuUDfxM",
        "outputId": "25c4db12-5014-440b-dd1a-d53be4004ed6"
      },
      "outputs": [
        {
          "data": {
            "text/plain": [
              "<matplotlib.legend.Legend at 0x113e2a6a0>"
            ]
          },
          "execution_count": 12,
          "metadata": {},
          "output_type": "execute_result"
        },
        {
          "data": {
            "image/png": "[encoded data removed]",
            "text/plain": [
              "<Figure size 432x288 with 1 Axes>"
            ]
          },
          "metadata": {},
          "output_type": "display_data"
        }
      ],
      "source": [
        "xx = np.linspace(0.4,1.1,100)\n",
        "yy = model(xx)\n",
        "for p in datos:\n",
        "    plt.scatter(p[0],p[1],c='k')\n",
        "plt.plot(xx,yy,'--r',label=r'$R^2 = $'+str(round(pow(r2,2),4)))\n",
        "plt.grid(True)\n",
        "plt.legend()"
      ]
    },
    {
      "cell_type": "code",
      "execution_count": null,
      "metadata": {
        "id": "cAhIdlztDfxM"
      },
      "outputs": [],
      "source": [
        ""
      ]
    }
  ],
  "metadata": {
    "kernelspec": {
      "display_name": "Python 3",
      "language": "python",
      "name": "python3"
    },
    "language_info": {
      "codemirror_mode": {
        "name": "ipython",
        "version": 3
      },
      "file_extension": ".py",
      "mimetype": "text/x-python",
      "name": "python",
      "nbconvert_exporter": "python",
      "pygments_lexer": "ipython3",
      "version": "3.6.4"
    },
    "colab": {
      "name": "sol_2doParcial-2018-I.ipynb",
      "provenance": [],
      "include_colab_link": true
    }
  },
  "nbformat": 4,
  "nbformat_minor": 0
}